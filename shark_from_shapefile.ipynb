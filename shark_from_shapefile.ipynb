{
 "cells": [
  {
   "cell_type": "markdown",
   "id": "47da19ee",
   "metadata": {},
   "source": [
    "# Гладкий силует акули з shapefile через криві Безьє 5-го порядку"
   ]
  },
  {
   "cell_type": "code",
   "execution_count": null,
   "id": "3154185c",
   "metadata": {},
   "outputs": [],
   "source": [
    "import fiona\n",
    "import shapely.geometry\n",
    "import numpy as np\n",
    "import matplotlib.pyplot as plt\n",
    "\n",
    "# Зчитування шейпфайлу\n",
    "shp_path = \"shark_shapefile/shark/shark_contour.shp\"\n",
    "with fiona.open(shp_path, 'r') as shapefile:\n",
    "    shape = shapely.geometry.shape(next(iter(shapefile))[\"geometry\"])\n",
    "    coords = np.array(shape.exterior.coords)\n",
    "\n",
    "# Центрування та нормалізація\n",
    "centered_coords = coords - coords.mean(axis=0)\n",
    "scale = max(np.ptp(centered_coords[:, 0]), np.ptp(centered_coords[:, 1]))\n",
    "normalized_coords = centered_coords / scale * 20\n",
    "\n",
    "# Візуалізація\n",
    "plt.figure(figsize=(7, 7))\n",
    "plt.plot(normalized_coords[:, 0], -normalized_coords[:, 1], color='blue')\n",
    "plt.title(\"Контур акули з shapefile\")\n",
    "plt.axis('equal')\n",
    "plt.grid(True)\n",
    "plt.show()\n"
   ]
  },
  {
   "cell_type": "code",
   "execution_count": null,
   "id": "e1acf3a0",
   "metadata": {},
   "outputs": [],
   "source": [
    "from Bezier import Bezier\n",
    "\n",
    "def chunk_closed(points, chunk_size=6):\n",
    "    total = len(points)\n",
    "    segments = []\n",
    "    for i in range(0, total, chunk_size):\n",
    "        if i + chunk_size <= total:\n",
    "            segments.append(points[i:i+chunk_size])\n",
    "        else:\n",
    "            remaining = points[i:]\n",
    "            needed = chunk_size - len(remaining)\n",
    "            segment = np.vstack([remaining, points[:needed]])\n",
    "            segments.append(segment)\n",
    "    return segments\n",
    "\n",
    "# Побудова кривих\n",
    "segments = chunk_closed(normalized_coords, 6)\n",
    "t_vals = np.linspace(0, 1, 300)\n",
    "\n",
    "fig, ax = plt.subplots(figsize=(8, 8))\n",
    "ax.set_aspect('equal')\n",
    "ax.grid(True, linestyle='--', alpha=0.3)\n",
    "ax.set_title(\"Гладкий силует акули з shapefile (Bezier-5)\")\n",
    "\n",
    "for idx, seg in enumerate(segments):\n",
    "    curve = Bezier.Curve(t_vals, seg)\n",
    "    ax.plot(curve[:, 0], -curve[:, 1], color='blue')\n",
    "    midpoint = Bezier.Point(0.5, seg)\n",
    "    ax.text(midpoint[0], -midpoint[1], f\"S{idx+1}\", fontsize=8, color='darkred')\n",
    "\n",
    "plt.show()\n"
   ]
  }
 ],
 "metadata": {},
 "nbformat": 4,
 "nbformat_minor": 5
}
