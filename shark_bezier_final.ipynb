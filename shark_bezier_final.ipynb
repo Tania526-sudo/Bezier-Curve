{
 "cells": [
  {
   "cell_type": "markdown",
   "id": "35390c27",
   "metadata": {},
   "source": [
    "# Побудова силуету акули з кривих Безьє 5-го порядку"
   ]
  },
  {
   "cell_type": "code",
   "execution_count": null,
   "id": "253ea3e8",
   "metadata": {},
   "outputs": [],
   "source": [
    "import cv2\n",
    "import numpy as np\n",
    "import matplotlib.pyplot as plt\n",
    "from pathlib import Path\n",
    "\n",
    "# Завантаження зображення\n",
    "image_path = \"shark_template.png\"\n",
    "img = cv2.imread(image_path, cv2.IMREAD_GRAYSCALE)\n",
    "\n",
    "# Обробка: бінаризація\n",
    "_, thresh = cv2.threshold(img, 127, 255, cv2.THRESH_BINARY_INV)\n",
    "\n",
    "# Пошук контурів\n",
    "contours, _ = cv2.findContours(thresh, cv2.RETR_EXTERNAL, cv2.CHAIN_APPROX_NONE)\n",
    "\n",
    "# Вибір найбільшого контуру\n",
    "main_contour = max(contours, key=cv2.contourArea)\n",
    "\n",
    "# Спрощення\n",
    "epsilon = 0.005 * cv2.arcLength(main_contour, True)\n",
    "approx = cv2.approxPolyDP(main_contour, epsilon, True)\n",
    "approx_points = approx[:, 0, :].astype(float)\n",
    "\n",
    "# Нормалізація\n",
    "h, w = img.shape\n",
    "scaled_points = (approx_points - [w // 2, h // 2]) / 20.0\n"
   ]
  },
  {
   "cell_type": "code",
   "execution_count": null,
   "id": "9b9f607b",
   "metadata": {},
   "outputs": [],
   "source": [
    "# Розбиття на сегменти для Безьє 5-го порядку\n",
    "def chunk_closed(points, chunk_size=6):\n",
    "    total = len(points)\n",
    "    segments = []\n",
    "    for i in range(0, total, chunk_size):\n",
    "        if i + chunk_size <= total:\n",
    "            segments.append(points[i:i+chunk_size])\n",
    "        else:\n",
    "            remaining = points[i:]\n",
    "            needed = chunk_size - len(remaining)\n",
    "            segment = np.vstack([remaining, points[:needed]])\n",
    "            segments.append(segment)\n",
    "    return segments\n",
    "\n",
    "segments = chunk_closed(scaled_points, 6)\n"
   ]
  },
  {
   "cell_type": "code",
   "execution_count": null,
   "id": "ab888d08",
   "metadata": {},
   "outputs": [],
   "source": [
    "from Bezier import Bezier\n",
    "\n",
    "t_vals = np.linspace(0, 1, 300)\n",
    "\n",
    "fig, ax = plt.subplots(figsize=(7, 7))\n",
    "ax.set_aspect('equal')\n",
    "ax.grid(True, linestyle='--', alpha=0.3)\n",
    "ax.set_title(\"Силует акули з кривих Безьє 5-го порядку\")\n",
    "\n",
    "for idx, seg in enumerate(segments):\n",
    "    curve = Bezier.Curve(t_vals, seg)\n",
    "    ax.plot(curve[:, 0], -curve[:, 1], color='blue')\n",
    "    midpoint = Bezier.Point(0.5, seg)\n",
    "    ax.text(midpoint[0], -midpoint[1], f\"S{idx+1}\", fontsize=8, color='darkred')\n",
    "\n",
    "plt.show()\n"
   ]
  }
 ],
 "metadata": {},
 "nbformat": 4,
 "nbformat_minor": 5
}
