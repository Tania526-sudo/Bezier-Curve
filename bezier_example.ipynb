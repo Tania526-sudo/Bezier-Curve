{
 "cells": [
  {
   "cell_type": "code",
   "execution_count": 2,
   "id": "90c0bb9e",
   "metadata": {},
   "outputs": [
    {
     "name": "stdout",
     "output_type": "stream",
     "text": [
      "Collecting matplotlib\n",
      "  Downloading matplotlib-3.10.1-cp313-cp313-win_amd64.whl.metadata (11 kB)\n",
      "Collecting contourpy>=1.0.1 (from matplotlib)\n",
      "  Downloading contourpy-1.3.2-cp313-cp313-win_amd64.whl.metadata (5.5 kB)\n",
      "Collecting cycler>=0.10 (from matplotlib)\n",
      "  Downloading cycler-0.12.1-py3-none-any.whl.metadata (3.8 kB)\n",
      "Collecting fonttools>=4.22.0 (from matplotlib)\n",
      "  Downloading fonttools-4.57.0-cp313-cp313-win_amd64.whl.metadata (104 kB)\n",
      "Collecting kiwisolver>=1.3.1 (from matplotlib)\n",
      "  Downloading kiwisolver-1.4.8-cp313-cp313-win_amd64.whl.metadata (6.3 kB)\n",
      "Requirement already satisfied: numpy>=1.23 in d:\\bezier curve\\venv\\lib\\site-packages (from matplotlib) (2.2.5)\n",
      "Requirement already satisfied: packaging>=20.0 in d:\\bezier curve\\venv\\lib\\site-packages (from matplotlib) (25.0)\n",
      "Collecting pillow>=8 (from matplotlib)\n",
      "  Downloading pillow-11.2.1-cp313-cp313-win_amd64.whl.metadata (9.1 kB)\n",
      "Collecting pyparsing>=2.3.1 (from matplotlib)\n",
      "  Downloading pyparsing-3.2.3-py3-none-any.whl.metadata (5.0 kB)\n",
      "Requirement already satisfied: python-dateutil>=2.7 in d:\\bezier curve\\venv\\lib\\site-packages (from matplotlib) (2.9.0.post0)\n",
      "Requirement already satisfied: six>=1.5 in d:\\bezier curve\\venv\\lib\\site-packages (from python-dateutil>=2.7->matplotlib) (1.17.0)\n",
      "Downloading matplotlib-3.10.1-cp313-cp313-win_amd64.whl (8.1 MB)\n",
      "   ---------------------------------------- 0.0/8.1 MB ? eta -:--:--\n",
      "   ------ --------------------------------- 1.3/8.1 MB 10.1 MB/s eta 0:00:01\n",
      "   ------- -------------------------------- 1.6/8.1 MB 6.9 MB/s eta 0:00:01\n",
      "   -------------------- ------------------- 4.2/8.1 MB 7.5 MB/s eta 0:00:01\n",
      "   -------------------------------- ------- 6.6/8.1 MB 8.2 MB/s eta 0:00:01\n",
      "   ---------------------------------------- 8.1/8.1 MB 8.1 MB/s eta 0:00:00\n",
      "Downloading contourpy-1.3.2-cp313-cp313-win_amd64.whl (223 kB)\n",
      "Downloading cycler-0.12.1-py3-none-any.whl (8.3 kB)\n",
      "Downloading fonttools-4.57.0-cp313-cp313-win_amd64.whl (2.2 MB)\n",
      "   ---------------------------------------- 0.0/2.2 MB ? eta -:--:--\n",
      "   -------------------------------------- - 2.1/2.2 MB 11.1 MB/s eta 0:00:01\n",
      "   ---------------------------------------- 2.2/2.2 MB 10.4 MB/s eta 0:00:00\n",
      "Downloading kiwisolver-1.4.8-cp313-cp313-win_amd64.whl (71 kB)\n",
      "Downloading pillow-11.2.1-cp313-cp313-win_amd64.whl (2.7 MB)\n",
      "   ---------------------------------------- 0.0/2.7 MB ? eta -:--:--\n",
      "   ------------------------------- -------- 2.1/2.7 MB 11.1 MB/s eta 0:00:01\n",
      "   ---------------------------------------- 2.7/2.7 MB 10.2 MB/s eta 0:00:00\n",
      "Downloading pyparsing-3.2.3-py3-none-any.whl (111 kB)\n",
      "Installing collected packages: pyparsing, pillow, kiwisolver, fonttools, cycler, contourpy, matplotlib\n",
      "Successfully installed contourpy-1.3.2 cycler-0.12.1 fonttools-4.57.0 kiwisolver-1.4.8 matplotlib-3.10.1 pillow-11.2.1 pyparsing-3.2.3\n"
     ]
    },
    {
     "name": "stderr",
     "output_type": "stream",
     "text": [
      "\n",
      "[notice] A new release of pip is available: 25.0.1 -> 25.1.1\n",
      "[notice] To update, run: python.exe -m pip install --upgrade pip\n"
     ]
    }
   ],
   "source": [
    "!pip install matplotlib"
   ]
  },
  {
   "cell_type": "code",
   "execution_count": 4,
   "id": "0a53fcd3",
   "metadata": {},
   "outputs": [],
   "source": [
    "import numpy as np\n",
    "import matplotlib.pyplot as plt\n",
    "from mpl_toolkits.mplot3d import Axes3D\n",
    "import Bezier\n",
    "\n",
    "def a(lst):\n",
    "    return np.asfortranarray(lst).T  \n"
   ]
  },
  {
   "cell_type": "code",
   "execution_count": 5,
   "id": "9eb7634e",
   "metadata": {},
   "outputs": [
    {
     "ename": "NameError",
     "evalue": "name 'bezier' is not defined",
     "output_type": "error",
     "traceback": [
      "\u001b[31m---------------------------------------------------------------------------\u001b[39m",
      "\u001b[31mNameError\u001b[39m                                 Traceback (most recent call last)",
      "\u001b[36mCell\u001b[39m\u001b[36m \u001b[39m\u001b[32mIn[5]\u001b[39m\u001b[32m, line 5\u001b[39m\n\u001b[32m      1\u001b[39m fig = plt.figure(figsize=(\u001b[32m12\u001b[39m, \u001b[32m8\u001b[39m), dpi=\u001b[32m128\u001b[39m)\n\u001b[32m      4\u001b[39m nodes = a([[\u001b[32m5\u001b[39m, \u001b[32m0\u001b[39m], [\u001b[32m0\u001b[39m, \u001b[32m2\u001b[39m], [\u001b[32m0\u001b[39m, \u001b[32m10\u001b[39m], [\u001b[32m6\u001b[39m, \u001b[32m10\u001b[39m], [\u001b[32m14\u001b[39m, -\u001b[32m2\u001b[39m], [-\u001b[32m4\u001b[39m, -\u001b[32m2\u001b[39m], [\u001b[32m4\u001b[39m, \u001b[32m10\u001b[39m], [\u001b[32m10\u001b[39m, \u001b[32m10\u001b[39m], [\u001b[32m10\u001b[39m, \u001b[32m2\u001b[39m], [\u001b[32m5\u001b[39m, \u001b[32m0\u001b[39m]])\n\u001b[32m----> \u001b[39m\u001b[32m5\u001b[39m curve = \u001b[43mbezier\u001b[49m.Curve.from_nodes(nodes)\n\u001b[32m      6\u001b[39m s_vals = np.linspace(\u001b[32m0.0\u001b[39m, \u001b[32m1.0\u001b[39m, \u001b[32m100\u001b[39m)\n\u001b[32m      7\u001b[39m points = curve.evaluate_multi(s_vals)\n",
      "\u001b[31mNameError\u001b[39m: name 'bezier' is not defined"
     ]
    },
    {
     "data": {
      "text/plain": [
       "<Figure size 1536x1024 with 0 Axes>"
      ]
     },
     "metadata": {},
     "output_type": "display_data"
    }
   ],
   "source": [
    "fig = plt.figure(figsize=(12, 8), dpi=128)\n",
    "\n",
    "\n",
    "nodes = a([[5, 0], [0, 2], [0, 10], [6, 10], [14, -2], [-4, -2], [4, 10], [10, 10], [10, 2], [5, 0]])\n",
    "curve = bezier.Curve.from_nodes(nodes)\n",
    "s_vals = np.linspace(0.0, 1.0, 100)\n",
    "points = curve.evaluate_multi(s_vals)\n",
    "\n",
    "plt.subplot(2, 3, 2)\n",
    "plt.plot(points[0, :], points[1, :], 'r')\n",
    "plt.plot(nodes[0, :], nodes[1, :], 'y*--')\n",
    "plt.grid(True)\n",
    "plt.gca().set_aspect('equal', adjustable='box')\n",
    "plt.title(\"Heart shape\")\n"
   ]
  },
  {
   "cell_type": "code",
   "execution_count": null,
   "id": "2435a0b0",
   "metadata": {},
   "outputs": [],
   "source": [
    "nodes = a([[0, 5], [4, 10], [6, 10], [4, 0], [6, 0], [10, 5]])\n",
    "curve = bezier.Curve.from_nodes(nodes)\n",
    "points = curve.evaluate_multi(s_vals)\n",
    "\n",
    "plt.subplot(2, 3, 6)\n",
    "plt.plot(points[0, :], points[1, :], 'b')\n",
    "plt.plot(nodes[0, :], nodes[1, :], 'ro:')\n",
    "plt.grid(True)\n",
    "plt.gca().set_aspect('equal', adjustable='box')\n",
    "plt.title(\"Wave\")\n"
   ]
  },
  {
   "cell_type": "code",
   "execution_count": null,
   "id": "6d858541",
   "metadata": {},
   "outputs": [],
   "source": [
    "nodes3d = np.asfortranarray([\n",
    "    [0, 0, 0],\n",
    "    [0, 4, 0],\n",
    "    [2, 5, 0],\n",
    "    [4, 5, 0],\n",
    "    [5, 4, 0],\n",
    "    [5, 1, 0],\n",
    "    [4, 0, 0],\n",
    "    [1, 0, 3],\n",
    "    [0, 0, 4],\n",
    "    [0, 2, 5],\n",
    "    [0, 4, 5],\n",
    "    [4, 5, 5],\n",
    "    [5, 5, 4],\n",
    "    [5, 5, 0]\n",
    "]).T\n",
    "curve3d = bezier.Curve.from_nodes(nodes3d)\n",
    "points3d = curve3d.evaluate_multi(s_vals)\n",
    "\n",
    "ax = fig.add_subplot(2, 3, 5, projection='3d')\n",
    "ax.plot(points3d[0], points3d[1], points3d[2])\n",
    "ax.plot(nodes3d[0], nodes3d[1], nodes3d[2], 'o--')\n",
    "ax.set_title(\"3D spiral\")\n",
    "ax.grid(True)\n",
    "\n",
    "plt.tight_layout()\n",
    "plt.show()\n"
   ]
  }
 ],
 "metadata": {
  "kernelspec": {
   "display_name": "venv",
   "language": "python",
   "name": "python3"
  },
  "language_info": {
   "codemirror_mode": {
    "name": "ipython",
    "version": 3
   },
   "file_extension": ".py",
   "mimetype": "text/x-python",
   "name": "python",
   "nbconvert_exporter": "python",
   "pygments_lexer": "ipython3",
   "version": "3.13.3"
  }
 },
 "nbformat": 4,
 "nbformat_minor": 5
}
