{
 "cells": [
  {
   "cell_type": "code",
   "execution_count": 2,
   "id": "41594ae3",
   "metadata": {},
   "outputs": [
    {
     "name": "stdout",
     "output_type": "stream",
     "text": [
      "Collecting pythreejs\n",
      "  Downloading pythreejs-2.4.2-py3-none-any.whl.metadata (5.4 kB)\n",
      "Collecting ipywidgets>=7.2.1 (from pythreejs)\n",
      "  Downloading ipywidgets-8.1.7-py3-none-any.whl.metadata (2.4 kB)\n",
      "Collecting ipydatawidgets>=1.1.1 (from pythreejs)\n",
      "  Downloading ipydatawidgets-4.3.5-py2.py3-none-any.whl.metadata (1.4 kB)\n",
      "Collecting numpy (from pythreejs)\n",
      "  Downloading numpy-2.2.5-cp313-cp313-win_amd64.whl.metadata (60 kB)\n",
      "Requirement already satisfied: traitlets in d:\\bezier curve\\venv\\lib\\site-packages (from pythreejs) (5.14.3)\n",
      "Collecting traittypes>=0.2.0 (from ipydatawidgets>=1.1.1->pythreejs)\n",
      "  Downloading traittypes-0.2.1-py2.py3-none-any.whl.metadata (1.0 kB)\n",
      "Requirement already satisfied: comm>=0.1.3 in d:\\bezier curve\\venv\\lib\\site-packages (from ipywidgets>=7.2.1->pythreejs) (0.2.2)\n",
      "Requirement already satisfied: ipython>=6.1.0 in d:\\bezier curve\\venv\\lib\\site-packages (from ipywidgets>=7.2.1->pythreejs) (9.2.0)\n",
      "Collecting widgetsnbextension~=4.0.14 (from ipywidgets>=7.2.1->pythreejs)\n",
      "  Downloading widgetsnbextension-4.0.14-py3-none-any.whl.metadata (1.6 kB)\n",
      "Collecting jupyterlab_widgets~=3.0.15 (from ipywidgets>=7.2.1->pythreejs)\n",
      "  Downloading jupyterlab_widgets-3.0.15-py3-none-any.whl.metadata (20 kB)\n",
      "Requirement already satisfied: colorama in d:\\bezier curve\\venv\\lib\\site-packages (from ipython>=6.1.0->ipywidgets>=7.2.1->pythreejs) (0.4.6)\n",
      "Requirement already satisfied: decorator in d:\\bezier curve\\venv\\lib\\site-packages (from ipython>=6.1.0->ipywidgets>=7.2.1->pythreejs) (5.2.1)\n",
      "Requirement already satisfied: ipython-pygments-lexers in d:\\bezier curve\\venv\\lib\\site-packages (from ipython>=6.1.0->ipywidgets>=7.2.1->pythreejs) (1.1.1)\n",
      "Requirement already satisfied: jedi>=0.16 in d:\\bezier curve\\venv\\lib\\site-packages (from ipython>=6.1.0->ipywidgets>=7.2.1->pythreejs) (0.19.2)\n",
      "Requirement already satisfied: matplotlib-inline in d:\\bezier curve\\venv\\lib\\site-packages (from ipython>=6.1.0->ipywidgets>=7.2.1->pythreejs) (0.1.7)\n",
      "Requirement already satisfied: prompt_toolkit<3.1.0,>=3.0.41 in d:\\bezier curve\\venv\\lib\\site-packages (from ipython>=6.1.0->ipywidgets>=7.2.1->pythreejs) (3.0.51)\n",
      "Requirement already satisfied: pygments>=2.4.0 in d:\\bezier curve\\venv\\lib\\site-packages (from ipython>=6.1.0->ipywidgets>=7.2.1->pythreejs) (2.19.1)\n",
      "Requirement already satisfied: stack_data in d:\\bezier curve\\venv\\lib\\site-packages (from ipython>=6.1.0->ipywidgets>=7.2.1->pythreejs) (0.6.3)\n",
      "Requirement already satisfied: parso<0.9.0,>=0.8.4 in d:\\bezier curve\\venv\\lib\\site-packages (from jedi>=0.16->ipython>=6.1.0->ipywidgets>=7.2.1->pythreejs) (0.8.4)\n",
      "Requirement already satisfied: wcwidth in d:\\bezier curve\\venv\\lib\\site-packages (from prompt_toolkit<3.1.0,>=3.0.41->ipython>=6.1.0->ipywidgets>=7.2.1->pythreejs) (0.2.13)\n",
      "Requirement already satisfied: executing>=1.2.0 in d:\\bezier curve\\venv\\lib\\site-packages (from stack_data->ipython>=6.1.0->ipywidgets>=7.2.1->pythreejs) (2.2.0)\n",
      "Requirement already satisfied: asttokens>=2.1.0 in d:\\bezier curve\\venv\\lib\\site-packages (from stack_data->ipython>=6.1.0->ipywidgets>=7.2.1->pythreejs) (3.0.0)\n",
      "Requirement already satisfied: pure-eval in d:\\bezier curve\\venv\\lib\\site-packages (from stack_data->ipython>=6.1.0->ipywidgets>=7.2.1->pythreejs) (0.2.3)\n",
      "Downloading pythreejs-2.4.2-py3-none-any.whl (3.4 MB)\n",
      "   ---------------------------------------- 0.0/3.4 MB ? eta -:--:--\n",
      "   ------------ --------------------------- 1.0/3.4 MB 7.4 MB/s eta 0:00:01\n",
      "   ---------------------------------- ----- 2.9/3.4 MB 8.9 MB/s eta 0:00:01\n",
      "   ---------------------------------------- 3.4/3.4 MB 7.7 MB/s eta 0:00:00\n",
      "Downloading ipydatawidgets-4.3.5-py2.py3-none-any.whl (271 kB)\n",
      "Downloading ipywidgets-8.1.7-py3-none-any.whl (139 kB)\n",
      "Downloading numpy-2.2.5-cp313-cp313-win_amd64.whl (12.6 MB)\n",
      "   ---------------------------------------- 0.0/12.6 MB ? eta -:--:--\n",
      "   ----- ---------------------------------- 1.8/12.6 MB 9.8 MB/s eta 0:00:02\n",
      "   --------- ------------------------------ 3.1/12.6 MB 10.2 MB/s eta 0:00:01\n",
      "   ---------- ----------------------------- 3.4/12.6 MB 6.5 MB/s eta 0:00:02\n",
      "   ---------------------- ----------------- 7.1/12.6 MB 8.3 MB/s eta 0:00:01\n",
      "   ---------------------------- ----------- 8.9/12.6 MB 8.6 MB/s eta 0:00:01\n",
      "   ----------------------------------- ---- 11.3/12.6 MB 9.0 MB/s eta 0:00:01\n",
      "   ---------------------------------------- 12.6/12.6 MB 9.1 MB/s eta 0:00:00\n",
      "Downloading jupyterlab_widgets-3.0.15-py3-none-any.whl (216 kB)\n",
      "Downloading traittypes-0.2.1-py2.py3-none-any.whl (8.6 kB)\n",
      "Downloading widgetsnbextension-4.0.14-py3-none-any.whl (2.2 MB)\n",
      "   ---------------------------------------- 0.0/2.2 MB ? eta -:--:--\n",
      "   --------------------------------- ------ 1.8/2.2 MB 10.2 MB/s eta 0:00:01\n",
      "   ---------------------------------------- 2.2/2.2 MB 9.9 MB/s eta 0:00:00\n",
      "Installing collected packages: widgetsnbextension, traittypes, numpy, jupyterlab_widgets, ipywidgets, ipydatawidgets, pythreejs\n",
      "Successfully installed ipydatawidgets-4.3.5 ipywidgets-8.1.7 jupyterlab_widgets-3.0.15 numpy-2.2.5 pythreejs-2.4.2 traittypes-0.2.1 widgetsnbextension-4.0.14\n"
     ]
    },
    {
     "name": "stderr",
     "output_type": "stream",
     "text": [
      "\n",
      "[notice] A new release of pip is available: 25.0.1 -> 25.1.1\n",
      "[notice] To update, run: python.exe -m pip install --upgrade pip\n"
     ]
    }
   ],
   "source": [
    "!pip install pythreejs"
   ]
  },
  {
   "cell_type": "code",
   "execution_count": 3,
   "id": "b7910c69",
   "metadata": {},
   "outputs": [],
   "source": [
    "from pythreejs import *\n",
    "import numpy as np\n",
    "from IPython.display import display"
   ]
  },
  {
   "cell_type": "code",
   "execution_count": 4,
   "id": "8d9e13f1",
   "metadata": {},
   "outputs": [],
   "source": [
    "def bezier_curve_3d(P0, P1, P2, t):\n",
    "    return (1 - t)**2 * P0 + 2 * (1 - t) * t * P1 + t**2 * P2\n",
    "\n",
    "t = np.linspace(0, 1, 100)\n",
    "P0 = np.array([0, 0, 0])\n",
    "P1 = np.array([1, 2, 1])\n",
    "P2 = np.array([2, 0, 0])\n",
    "curve = np.array([bezier_curve_3d(P0, P1, P2, ti) for ti in t])"
   ]
  },
  {
   "cell_type": "code",
   "execution_count": 5,
   "id": "9d9fb753",
   "metadata": {},
   "outputs": [],
   "source": [
    "geometry = BufferGeometry(attributes={\n",
    "    'position': BufferAttribute(curve.astype(np.float32), normalized=False)\n",
    "})\n",
    "\n",
    "material = LineBasicMaterial(color='blue')\n",
    "line = Line(geometry=geometry, material=material)"
   ]
  },
  {
   "cell_type": "code",
   "execution_count": 6,
   "id": "8ff2e8bb",
   "metadata": {},
   "outputs": [],
   "source": [
    "points_geom = BufferGeometry(attributes={\n",
    "    'position': BufferAttribute(np.array([P0, P1, P2], dtype=np.float32))\n",
    "})\n",
    "points = Points(geometry=points_geom, material=PointsMaterial(color='red', size=10))"
   ]
  },
  {
   "cell_type": "code",
   "execution_count": 7,
   "id": "0689a9ae",
   "metadata": {},
   "outputs": [],
   "source": [
    "axes = AxesHelper(size=2)\n",
    "camera = PerspectiveCamera(position=[4, 3, 3], up=[0, 0, 1],\n",
    "                           children=[DirectionalLight(color='white', position=[3, 5, 1], intensity=0.6)])\n",
    "scene = Scene(children=[line, points, axes, camera, AmbientLight(intensity=0.4)], background='#ffffff')"
   ]
  },
  {
   "cell_type": "code",
   "execution_count": 9,
   "id": "0b578986",
   "metadata": {},
   "outputs": [
    {
     "data": {
      "application/vnd.jupyter.widget-view+json": {
       "model_id": "9a04e576a1464f19982b7a956e540b92",
       "version_major": 2,
       "version_minor": 0
      },
      "text/plain": [
       "Renderer(camera=PerspectiveCamera(children=(DirectionalLight(color='white', intensity=0.6, position=(3.0, 5.0,…"
      ]
     },
     "metadata": {},
     "output_type": "display_data"
    }
   ],
   "source": [
    "renderer = Renderer(camera=camera, scene=scene,\n",
    "                    controls=[OrbitControls(controlling=camera)],\n",
    "                    width=700, height=500)\n",
    "display(renderer)"
   ]
  }
 ],
 "metadata": {
  "kernelspec": {
   "display_name": "venv",
   "language": "python",
   "name": "python3"
  },
  "language_info": {
   "codemirror_mode": {
    "name": "ipython",
    "version": 3
   },
   "file_extension": ".py",
   "mimetype": "text/x-python",
   "name": "python",
   "nbconvert_exporter": "python",
   "pygments_lexer": "ipython3",
   "version": "3.13.3"
  }
 },
 "nbformat": 4,
 "nbformat_minor": 5
}
